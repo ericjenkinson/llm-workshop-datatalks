{
 "cells": [
  {
   "cell_type": "markdown",
   "id": "68a3141c-f2f2-4264-9f36-af3cb0c5e418",
   "metadata": {},
   "source": [
    "## Homework: Vector Search\n",
    "\n",
    "In this homework, we will learn more about vector search and embedding. Like in the module, we will use Qdrant and fastembed\n",
    "\n",
    "> It's possible that your answers won't match exactly. If it's the case, select the closest one.\n",
    "\n",
    "Note: if you want to learn how vector search works under the hood, check [homework 3 from 2024 cohort (questions 1-4)](https://github.com/DataTalksClub/llm-zoomcamp/blob/main/cohorts/2024/03-vector-search/homework.md)\n",
    "\n",
    "## Embeddings\n",
    "\n",
    "Qdrant uses [fastembed](https://github.com/qdrant/fastembed) under the hood to turn text into vectors.\n",
    "\n",
    "We will now explore this library\n",
    "\n",
    "Make sure it's installed:\n",
    "```\n",
    "pip install fastembed\n",
    "```\n",
    "Import it:\n",
    "```\n",
    "from fastembed import TextEmbedding\n",
    "```\n",
    "### Q1. Embedding the query\n",
    "\n",
    "Embed the query: ```'I just discovered the course. Can I join now?'```. Use the ```'jinaai/jina-embeddings-v2-small-en'``` model.\n",
    "\n",
    "You should get a numpy array of size 512.\n",
    "\n",
    "What's the minimal value in this array?\n",
    "\n",
    "* -0.51\n",
    "* **-0.11**\n",
    "* 0\n",
    "* 0.51\n"
   ]
  },
  {
   "cell_type": "code",
   "execution_count": 1,
   "id": "e0798440-d45d-49b3-98f4-ddebe5a87de6",
   "metadata": {},
   "outputs": [
    {
     "name": "stderr",
     "output_type": "stream",
     "text": [
      "/usr/local/python/3.12.1/lib/python3.12/site-packages/tqdm/auto.py:21: TqdmWarning: IProgress not found. Please update jupyter and ipywidgets. See https://ipywidgets.readthedocs.io/en/stable/user_install.html\n",
      "  from .autonotebook import tqdm as notebook_tqdm\n"
     ]
    }
   ],
   "source": [
    "from fastembed import TextEmbedding"
   ]
  },
  {
   "cell_type": "code",
   "execution_count": 5,
   "id": "89dc62dd-6ede-4e72-9a99-de69a505f4b5",
   "metadata": {},
   "outputs": [
    {
     "name": "stderr",
     "output_type": "stream",
     "text": [
      "Fetching 5 files: 100%|████████████████████████████████████████████████████████████████████████████████| 5/5 [00:01<00:00,  4.59it/s]\n"
     ]
    }
   ],
   "source": [
    "model = TextEmbedding(model_name=\"jinaai/jina-embeddings-v2-small-en\")\n",
    "\n",
    "raw_query = \"I just discovered the course. Can I join now?\"\n",
    "prefixed_query = f\"query: {raw_query}\""
   ]
  },
  {
   "cell_type": "code",
   "execution_count": 6,
   "id": "868ed75a-2c3c-4df0-ad69-daa35419a799",
   "metadata": {},
   "outputs": [],
   "source": [
    "# Embed your query\n",
    "# embed() returns a generator of numpy arrays\n",
    "emb_gen = model.embed([prefixed_query])\n",
    "query_embedding = next(emb_gen)  # or: list(model.embed([prefixed_query]))[0]"
   ]
  },
  {
   "cell_type": "code",
   "execution_count": 7,
   "id": "e051976a-6225-40ba-a022-c7bebd664d04",
   "metadata": {},
   "outputs": [
    {
     "name": "stdout",
     "output_type": "stream",
     "text": [
      "Embedding vector (shape (512,)):\n",
      " [-5.56700644e-02 -5.91947790e-02  5.39899518e-02  3.80470234e-02\n",
      " -4.92856502e-03 -3.47944135e-02  3.99072577e-02  4.59148763e-02\n",
      "  1.83341418e-02 -9.52772089e-03  4.54004942e-02 -1.20338823e-02\n",
      " -4.21386614e-02 -1.08453106e-01  7.23750023e-02 -3.05278842e-02\n",
      " -9.65327805e-03 -2.90670041e-02 -3.98645727e-02 -1.72941270e-02\n",
      " -2.31294233e-02 -6.67832059e-03  2.59414772e-02 -3.59517180e-03\n",
      "  8.23218558e-02 -8.10587483e-02 -6.34000685e-02  5.10138388e-02\n",
      "  4.07947449e-02  6.18107363e-02 -3.70725083e-02  2.81571896e-02\n",
      "  2.46928692e-03  1.11272689e-02 -4.52913732e-02  2.17225107e-02\n",
      "  5.10061227e-02  1.35064928e-02 -2.41472429e-02 -4.36897430e-02\n",
      "  6.06906639e-03  2.94652879e-02  7.32580567e-02  2.75495004e-02\n",
      " -5.47573179e-02 -7.90277460e-03 -1.16249444e-01  3.71479592e-02\n",
      "  1.71589254e-02 -1.08521203e-02 -5.73682334e-02  3.52678604e-02\n",
      " -8.04892372e-02  4.22803926e-02  1.26776605e-02  4.97862691e-02\n",
      " -3.61782539e-02  3.30159532e-02 -4.80931209e-02 -6.04425718e-03\n",
      "  1.28145336e-02  1.08421200e-02 -5.05167743e-02  3.71058799e-02\n",
      " -2.23928770e-02 -3.55179304e-02 -3.34097949e-02 -2.11643762e-03\n",
      " -9.24501776e-02  1.10911569e-02 -5.20313964e-02 -2.22812311e-02\n",
      "  1.19444232e-01 -6.63866014e-02 -1.51262215e-02  3.10198458e-02\n",
      " -2.95829025e-02  6.88435873e-02  1.83283425e-02 -1.95320109e-02\n",
      " -2.28441296e-02 -5.22338860e-02 -3.25619754e-02  3.42154001e-02\n",
      " -2.10415785e-02 -6.78671643e-02  3.52934457e-02  8.03759432e-03\n",
      "  6.57710346e-02 -3.01179651e-02 -9.63438589e-03  5.24300002e-02\n",
      " -1.43217199e-02 -6.43921977e-02 -3.23069450e-02 -5.15153689e-02\n",
      "  4.53564054e-02  4.16634284e-02 -2.78910024e-02  2.08908873e-02\n",
      "  9.45279655e-02  4.53434400e-03  5.25471494e-02 -2.20678375e-02\n",
      "  2.84350178e-02  2.81776308e-02 -4.78926204e-02  5.08976433e-03\n",
      " -1.09422670e-01 -1.69985226e-02  3.66004050e-03 -3.09146970e-02\n",
      " -2.72318681e-02 -1.49746425e-02 -5.85120708e-02  1.69402065e-02\n",
      "  6.10338276e-02 -5.59840252e-02 -3.59879460e-02 -3.98941204e-03\n",
      "  4.43472809e-02  2.25649682e-02 -1.01344848e-02  3.64970289e-02\n",
      "  3.51546500e-02  8.89199273e-02 -1.51064990e-03  8.32955650e-03\n",
      "  1.78131106e-03 -1.05087036e-02 -2.06058110e-02  2.05171001e-02\n",
      " -4.03874161e-02 -1.38124803e-03  1.22875469e-01 -4.81531279e-02\n",
      "  7.63244218e-03  3.51310816e-02 -3.59680491e-02  4.88615273e-02\n",
      " -4.61812340e-02 -5.86573406e-02  4.64382298e-02 -4.01412359e-02\n",
      " -2.98624749e-02 -1.10429425e-02  6.40388594e-02 -5.53492914e-02\n",
      " -6.16144481e-02  5.07876138e-03 -1.81145512e-02  5.16602857e-02\n",
      " -5.16958862e-02 -5.25544602e-03 -4.80158115e-03  9.48214170e-02\n",
      " -3.91096784e-03  6.00132909e-02  1.42522493e-02 -4.21709357e-02\n",
      " -3.38857199e-03  7.28882662e-02 -2.34942928e-02 -4.13552397e-02\n",
      " -4.68601724e-02 -4.08935024e-02  7.04027083e-02  8.34128476e-02\n",
      " -4.76494311e-02  1.12906914e-02  4.70970698e-02  2.81777711e-02\n",
      " -5.77335084e-02 -8.65224918e-03 -1.07369893e-01 -4.71888547e-02\n",
      " -3.90703705e-02  1.41613601e-02 -5.20624593e-02 -3.84256906e-02\n",
      "  1.39178787e-02 -3.73950962e-02 -1.86890462e-02  1.08159894e-02\n",
      "  2.65738029e-02 -3.31142869e-02 -1.39505615e-02  7.45363705e-03\n",
      "  7.91478536e-03 -2.74511737e-02  2.38249497e-02 -2.45191590e-03\n",
      "  2.44019831e-03 -5.68940885e-03 -3.31250533e-02  1.49517616e-02\n",
      " -1.66313246e-02  1.05080363e-02 -2.82247918e-03  2.77867460e-02\n",
      "  1.38360592e-02  8.26220954e-02 -5.27787059e-02  4.01026073e-02\n",
      " -4.75230802e-02  4.61457231e-02 -4.11268238e-02 -6.40327414e-02\n",
      " -3.57760466e-02 -4.45745542e-02  4.62093086e-03  2.70900521e-02\n",
      "  7.69579022e-02  1.52109540e-02 -2.75346599e-02 -2.04768796e-02\n",
      " -2.65088217e-02 -2.40203058e-02  2.50712033e-02 -4.45536211e-04\n",
      " -1.03023465e-02  2.85694573e-02  8.87079123e-03  3.66466848e-02\n",
      " -1.72548884e-02 -4.69918360e-02  5.22227949e-04  1.09659114e-02\n",
      "  4.04143452e-03 -4.43463193e-02  1.04966500e-01 -2.27276820e-02\n",
      " -4.42543722e-02 -1.87630649e-02  1.09249900e-02 -1.56262596e-03\n",
      " -1.38983559e-03 -1.65960981e-03 -2.54938798e-02 -9.14029684e-03\n",
      " -6.82590256e-02  9.50862757e-03  7.01378114e-02 -2.97832470e-02\n",
      " -3.90488115e-03  2.67188649e-02  7.82106056e-02 -9.07843759e-03\n",
      "  2.86134845e-02  7.81506572e-02 -3.23516703e-03 -1.95287495e-03\n",
      " -4.70286894e-02 -9.94917336e-02 -7.37725569e-03  5.90940132e-02\n",
      " -2.17601553e-02  7.74383773e-02 -5.38049067e-02 -1.96411780e-02\n",
      "  8.05405531e-03  4.25603330e-02 -3.58150538e-03  8.48704483e-02\n",
      "  4.01606071e-03 -1.03816801e-03 -5.14035634e-02  3.69801025e-02\n",
      "  3.01909715e-02  2.30395818e-02  2.12285903e-03 -2.76041070e-02\n",
      "  3.68814512e-02 -1.72841299e-02 -3.98954256e-02 -3.86721889e-02\n",
      "  5.33330091e-02 -1.40422525e-02  3.32576348e-02 -2.21186096e-02\n",
      " -6.49042391e-02  4.28065002e-02  8.87902997e-03  2.01265438e-02\n",
      "  6.21065188e-02 -3.15804996e-02  4.11729573e-02  4.29259861e-02\n",
      "  9.84255774e-02 -5.77474573e-04 -8.00070821e-06 -7.62004580e-02\n",
      "  3.83451540e-03 -1.52603222e-03 -2.32940959e-02  4.84744713e-02\n",
      "  4.65915080e-02  1.98876261e-02 -1.35733461e-02  2.21861045e-02\n",
      "  1.20168912e-02  1.36198644e-02 -3.14678624e-02 -3.62349593e-02\n",
      " -3.21945123e-03  1.39188635e-02  3.39418625e-02  1.62211848e-02\n",
      " -2.39238391e-02 -2.12694430e-02  3.33101927e-03 -3.58485502e-02\n",
      " -2.84203612e-02  1.55618888e-02  6.75800447e-02  4.92492477e-02\n",
      "  6.99745487e-02 -4.79576439e-02 -5.84668123e-02  5.20215889e-03\n",
      " -1.95269060e-02  6.26767528e-03  3.38431781e-02  2.85154988e-02\n",
      "  5.24427540e-02  4.04881185e-02 -4.75419696e-02 -2.96927538e-03\n",
      " -3.27214185e-02  3.07109773e-03 -4.04478380e-02  3.73009331e-02\n",
      " -6.74532851e-02 -9.51915068e-02 -3.36900116e-02  2.55043197e-02\n",
      " -6.53764904e-02 -5.24120904e-02  1.97326213e-02 -1.80938717e-02\n",
      "  3.26884106e-02  1.61797592e-02  2.22183769e-02  7.96153428e-02\n",
      "  1.62693423e-02 -1.13613756e-03  1.64517318e-02  5.19393344e-03\n",
      " -1.07219424e-02 -1.60441435e-03 -3.76890751e-02  1.55487181e-03\n",
      " -5.04668634e-02 -6.86326256e-03 -9.96679545e-02  3.48180230e-02\n",
      " -3.79584815e-02 -6.65294660e-02 -3.41982268e-02  1.03456366e-01\n",
      " -5.39970811e-03 -5.00542835e-02 -2.90679740e-02  6.23814812e-02\n",
      "  4.06095160e-02 -3.01540144e-02 -2.03126857e-02 -2.97710919e-02\n",
      "  4.18647000e-02  3.40864880e-02  9.22490781e-02  2.38250993e-02\n",
      " -5.08551755e-03 -8.08642881e-02  2.21194888e-02 -4.34594792e-02\n",
      "  5.03330203e-02  2.73782898e-03  4.37578418e-03 -5.52865623e-03\n",
      "  5.58159157e-03  1.71760297e-02 -4.07467418e-03 -5.48246517e-02\n",
      " -7.00569186e-02  2.23242116e-02 -1.83069875e-02  2.29719816e-02\n",
      "  5.25964453e-02  3.34897946e-03 -4.06865881e-02 -6.22404373e-02\n",
      " -5.68589947e-02  2.87305781e-02  4.41222200e-02 -8.25222642e-02\n",
      "  5.59203211e-02  6.99002311e-02 -7.99537692e-03  6.74609048e-02\n",
      "  3.22778571e-03  9.18037292e-03 -4.82642494e-02  2.83852676e-03\n",
      " -4.00461419e-02 -4.95670325e-02 -7.15458336e-02 -2.62121201e-02\n",
      "  2.64291544e-02  2.54270690e-02  7.25561750e-02  1.91408244e-03\n",
      "  7.73282413e-02  1.60731344e-02 -2.97465889e-02 -6.41408290e-02\n",
      " -6.86660244e-02 -3.84774132e-02 -5.12314755e-02  2.11240452e-02\n",
      "  2.93468412e-02  9.17322027e-03 -4.95662480e-02  1.42710921e-02\n",
      "  6.37079350e-02 -6.15286916e-03  4.01594065e-02 -3.36273739e-02\n",
      "  5.65792000e-02  2.05653911e-02  8.37707829e-03 -4.89503518e-02\n",
      " -5.38343908e-02  2.10296350e-02 -6.73085297e-02  4.81249712e-02\n",
      "  2.42869888e-02 -8.95144553e-02  2.55445738e-02 -1.01908783e-02\n",
      "  1.04569226e-01 -1.03346775e-01  1.84438122e-02  4.23230217e-02\n",
      "  6.89050452e-02  8.73034147e-02  5.92358354e-02 -2.20640903e-02\n",
      " -3.24741409e-02  5.41970851e-02  1.19086874e-02  6.97910457e-02\n",
      " -3.76599634e-02  1.94649891e-02 -3.22726198e-02 -2.04451781e-02\n",
      " -7.28118219e-03 -9.52741383e-02 -1.95478482e-03  1.15738827e-02\n",
      "  1.62429735e-02 -3.09033707e-02 -3.47364420e-02 -1.54321001e-02\n",
      "  1.66889849e-02  3.25051471e-02  5.08875348e-02 -5.69310503e-03\n",
      "  7.67229962e-02 -1.63874341e-02  9.02661450e-04 -7.97184595e-02\n",
      " -1.00852254e-02  4.83839388e-02  9.38511634e-02  5.80157624e-03\n",
      "  5.78484165e-02  3.75141786e-02 -4.12526051e-02  9.50146863e-02\n",
      " -7.90508856e-02 -4.30158288e-02 -5.98089236e-02 -1.05700150e-01\n",
      " -4.20220130e-02 -1.84865586e-02  3.12625120e-02 -3.34851010e-03\n",
      "  6.29678829e-02  3.17046579e-02 -6.01327313e-02 -5.58429997e-02\n",
      " -1.02272279e-02 -4.86238221e-02 -2.32607042e-02  3.29080450e-02\n",
      "  3.40444788e-02 -5.24508671e-02  6.56149590e-02  6.41419657e-02\n",
      "  4.67416675e-02 -5.23049870e-02  1.12604747e-02  3.28051278e-02\n",
      " -4.04508949e-02  5.84672833e-02 -2.45537251e-02 -5.38263607e-02\n",
      " -7.99919329e-02  8.66498817e-02  4.17423755e-02  1.33861344e-02]\n"
     ]
    }
   ],
   "source": [
    "# Use the embedded\n",
    "print(f\"Embedding vector (shape {query_embedding.shape}):\\n\", query_embedding)"
   ]
  },
  {
   "cell_type": "code",
   "execution_count": 8,
   "id": "0ddf124e-9242-4347-bef6-a0d5d3a38020",
   "metadata": {},
   "outputs": [
    {
     "data": {
      "text/plain": [
       "np.float64(-0.11624944375698411)"
      ]
     },
     "execution_count": 8,
     "metadata": {},
     "output_type": "execute_result"
    }
   ],
   "source": [
    "query_embedding.min()"
   ]
  },
  {
   "cell_type": "markdown",
   "id": "571e27fe-f873-4584-8cbf-350fbf31ce78",
   "metadata": {},
   "source": [
    "## Cosine similarity\n",
    "\n",
    "The vectors that our embedding model returns are already normalized: their length is 1.0.\n",
    "\n",
    "You can check that by using the norm function:\n",
    "```python\n",
    "import numpy as np\n",
    "np.linalg.norm(q)\n",
    "```\n",
    "Which means that we can simply compute the dot product between two vectors to learn the cosine similarity between them.\n",
    "\n",
    "For example, if you compute the cosine of the query vector with itself, the result will be 1.0:\n",
    "```python\n",
    "q.dot(q)\n",
    "```\n",
    "## Q2. Cosine similarity with another vector\n",
    "\n",
    "Now let's embed this document:\n",
    "\n",
    "```doc = 'Can I still join the course after the start date?'```\n",
    "\n",
    "What's the cosine similarity between the vector for the query and the vector for the document?\n",
    "\n",
    "* 0.3\n",
    "* 0.5\n",
    "* 0.7\n",
    "* **0.9**\n"
   ]
  },
  {
   "cell_type": "code",
   "execution_count": 10,
   "id": "775493d2-a02d-4d55-b4a0-10f9ab833cd8",
   "metadata": {},
   "outputs": [],
   "source": [
    "import numpy as np\n",
    "\n",
    "raw_doc_query = \"Can I still join the course after the start date?\"\n",
    "prefixed_query = f\"query: {raw_doc_query}\"\n",
    "\n",
    "emb_doc_gen = model.embed([prefixed_query])\n",
    "doc_embedding = next(emb_doc_gen)  "
   ]
  },
  {
   "cell_type": "code",
   "execution_count": 14,
   "id": "7768846b-957b-4982-9781-d6b39db883a9",
   "metadata": {},
   "outputs": [
    {
     "data": {
      "text/plain": [
       "np.float64(0.9013799853601606)"
      ]
     },
     "execution_count": 14,
     "metadata": {},
     "output_type": "execute_result"
    }
   ],
   "source": [
    "query_embedding.dot(doc_embedding) / np.linalg.norm(query_embedding) * np.linalg.norm(doc_embedding)"
   ]
  },
  {
   "cell_type": "markdown",
   "id": "ed3fc847-9525-4bb2-b758-fa05bf48bd05",
   "metadata": {},
   "source": [
    "## Q3. Ranking by cosine\n",
    "\n",
    "For Q3 and Q4 we will use these documents:\n",
    "```\n",
    "documents = [{'text': \"Yes, even if you don't register, you're still eligible to submit the homeworks.\\nBe aware, however, that there will be deadlines for turning in the final projects. So don't leave everything for the last minute.\",\n",
    "  'section': 'General course-related questions',\n",
    "  'question': 'Course - Can I still join the course after the start date?',\n",
    "  'course': 'data-engineering-zoomcamp'},\n",
    " {'text': 'Yes, we will keep all the materials after the course finishes, so you can follow the course at your own pace after it finishes.\\nYou can also continue looking at the homeworks and continue preparing for the next cohort. I guess you can also start working on your final capstone project.',\n",
    "  'section': 'General course-related questions',\n",
    "  'question': 'Course - Can I follow the course after it finishes?',\n",
    "  'course': 'data-engineering-zoomcamp'},\n",
    " {'text': \"The purpose of this document is to capture frequently asked technical questions\\nThe exact day and hour of the course will be 15th Jan 2024 at 17h00. The course will start with the first  “Office Hours'' live.1\\nSubscribe to course public Google Calendar (it works from Desktop only).\\nRegister before the course starts using this link.\\nJoin the course Telegram channel with announcements.\\nDon’t forget to register in DataTalks.Club's Slack and join the channel.\",\n",
    "  'section': 'General course-related questions',\n",
    "  'question': 'Course - When will the course start?',\n",
    "  'course': 'data-engineering-zoomcamp'},\n",
    " {'text': 'You can start by installing and setting up all the dependencies and requirements:\\nGoogle cloud account\\nGoogle Cloud SDK\\nPython 3 (installed with Anaconda)\\nTerraform\\nGit\\nLook over the prerequisites and syllabus to see if you are comfortable with these subjects.',\n",
    "  'section': 'General course-related questions',\n",
    "  'question': 'Course - What can I do before the course starts?',\n",
    "  'course': 'data-engineering-zoomcamp'},\n",
    " {'text': 'Star the repo! Share it with friends if you find it useful ❣️\\nCreate a PR if you see you can improve the text or the structure of the repository.',\n",
    "  'section': 'General course-related questions',\n",
    "  'question': 'How can we contribute to the course?',\n",
    "  'course': 'data-engineering-zoomcamp'}]\n",
    "```\n",
    "Compute the embeddings for the text field, and compute the cosine between the query vector and all the documents.\n",
    "\n",
    "What's the document index with the highest similarity? (Indexing starts from 0):\n",
    "\n",
    "* 0\n",
    "* 1\n",
    "* **2**\n",
    "* 3\n",
    "* 4\n",
    "\n",
    "Hint: if you put all the embeddings of the text field in one matrix V (a single 2-dimensional numpy array), then computing the cosine becomes a matrix multiplication:\n",
    "```python\n",
    "V.dot(q)\n",
    "```\n",
    "If this hint is rather confusing you than helping, feel free to ignore it."
   ]
  },
  {
   "cell_type": "code",
   "execution_count": 15,
   "id": "038128d1-f748-4cf9-8e64-f1ca1f17b1b0",
   "metadata": {},
   "outputs": [],
   "source": [
    "documents = [{'text': \"Yes, even if you don't register, you're still eligible to submit the homeworks.\\nBe aware, however, that there will be deadlines for turning in the final projects. So don't leave everything for the last minute.\",\n",
    "  'section': 'General course-related questions',\n",
    "  'question': 'Course - Can I still join the course after the start date?',\n",
    "  'course': 'data-engineering-zoomcamp'},\n",
    " {'text': 'Yes, we will keep all the materials after the course finishes, so you can follow the course at your own pace after it finishes.\\nYou can also continue looking at the homeworks and continue preparing for the next cohort. I guess you can also start working on your final capstone project.',\n",
    "  'section': 'General course-related questions',\n",
    "  'question': 'Course - Can I follow the course after it finishes?',\n",
    "  'course': 'data-engineering-zoomcamp'},\n",
    " {'text': \"The purpose of this document is to capture frequently asked technical questions\\nThe exact day and hour of the course will be 15th Jan 2024 at 17h00. The course will start with the first  “Office Hours'' live.1\\nSubscribe to course public Google Calendar (it works from Desktop only).\\nRegister before the course starts using this link.\\nJoin the course Telegram channel with announcements.\\nDon’t forget to register in DataTalks.Club's Slack and join the channel.\",\n",
    "  'section': 'General course-related questions',\n",
    "  'question': 'Course - When will the course start?',\n",
    "  'course': 'data-engineering-zoomcamp'},\n",
    " {'text': 'You can start by installing and setting up all the dependencies and requirements:\\nGoogle cloud account\\nGoogle Cloud SDK\\nPython 3 (installed with Anaconda)\\nTerraform\\nGit\\nLook over the prerequisites and syllabus to see if you are comfortable with these subjects.',\n",
    "  'section': 'General course-related questions',\n",
    "  'question': 'Course - What can I do before the course starts?',\n",
    "  'course': 'data-engineering-zoomcamp'},\n",
    " {'text': 'Star the repo! Share it with friends if you find it useful ❣️\\nCreate a PR if you see you can improve the text or the structure of the repository.',\n",
    "  'section': 'General course-related questions',\n",
    "  'question': 'How can we contribute to the course?',\n",
    "  'course': 'data-engineering-zoomcamp'}]"
   ]
  },
  {
   "cell_type": "code",
   "execution_count": 16,
   "id": "bb11a616-305a-48ae-b598-7aa714307e2c",
   "metadata": {},
   "outputs": [
    {
     "name": "stdout",
     "output_type": "stream",
     "text": [
      "Most similar document index: 2\n"
     ]
    }
   ],
   "source": [
    "# Prepare and embed passages\n",
    "passages = [f\"passage: {doc['text']}\" for doc in documents]\n",
    "passage_embeddings = list(model.embed(passages))\n",
    "\n",
    "# Compute cosine similarities against your query embedding\n",
    "def cosine(u, v):\n",
    "    return u.dot(v) / (np.linalg.norm(u) * np.linalg.norm(v))\n",
    "\n",
    "sims = [cosine(query_embedding, pe) for pe in passage_embeddings]\n",
    "\n",
    "# Find the index of the most similar document\n",
    "best_idx = int(np.argmax(sims))\n",
    "print(\"Most similar document index:\", best_idx)"
   ]
  },
  {
   "cell_type": "markdown",
   "id": "88766e4b-ba34-44e3-a1c2-1be5536d64e7",
   "metadata": {},
   "source": [
    "## Q4. Ranking by cosine, version two\n",
    "\n",
    "Now let's calculate a new field, which is a concatenation of question and text:\n",
    "```\n",
    "full_text = doc['question'] + ' ' + doc['text']\n",
    "```\n",
    "Embed this field and compute the cosine between it and the query vector. What's the highest scoring document?\n",
    "\n",
    "* **0** *In short, concatenating the question changes the embedding, so it’s completely normal that the top-hit index shifts when you switch from “text only” to “question + text.”*\n",
    "* 1\n",
    "* 2\n",
    "* 3\n",
    "* 4\n",
    "\n",
    "Is it different from Q3? If yes, why?"
   ]
  },
  {
   "cell_type": "code",
   "execution_count": 20,
   "id": "ef0bd509-c896-4ebb-8fe6-705a768fc1e4",
   "metadata": {},
   "outputs": [
    {
     "name": "stdout",
     "output_type": "stream",
     "text": [
      "Most similar document index: 0\n"
     ]
    }
   ],
   "source": [
    "concat_passages = [\n",
    "    f\"passage: {doc['question']}  {doc['text']}\"\n",
    "    for doc in documents\n",
    "]\n",
    "concat_passage_embeddings = list(model.embed(concat_passages))\n",
    "\n",
    "concat_sims = [cosine(query_embedding, cpe) for cpe in concat_passage_embeddings]\n",
    "\n",
    "concat_best_idx = int(np.argmax(concat_sims))\n",
    "print(\"Most similar document index:\", concat_best_idx)"
   ]
  },
  {
   "cell_type": "markdown",
   "id": "a90395ec-4dcd-4c13-b5a0-cad1207e768c",
   "metadata": {},
   "source": [
    "## Q5. Selecting the embedding model\n",
    "\n",
    "Now let's select a smaller embedding model. What's the smallest dimensionality for models in fastembed?\n",
    "\n",
    "* 128\n",
    "* 256\n",
    "* **384**\n",
    "* 512\n",
    "\n",
    "One of these models is ```BAAI/bge-small-en```. Let's use it."
   ]
  },
  {
   "cell_type": "code",
   "execution_count": 23,
   "id": "3bcb3895-b2c0-4417-bd14-c31b0d5d365e",
   "metadata": {},
   "outputs": [
    {
     "name": "stdout",
     "output_type": "stream",
     "text": [
      "Smallest TextEmbedding dim:          384\n",
      "\n",
      "TextEmbedding model(s) with dim = 384 :\n",
      "['BAAI/bge-small-en', 'BAAI/bge-small-en-v1.5', 'snowflake/snowflake-arctic-embed-xs', 'snowflake/snowflake-arctic-embed-s', 'sentence-transformers/all-MiniLM-L6-v2', 'sentence-transformers/paraphrase-multilingual-MiniLM-L12-v2']\n"
     ]
    }
   ],
   "source": [
    "import pandas as pd\n",
    "\n",
    "df_text  = pd.DataFrame(TextEmbedding.list_supported_models())\n",
    "min_text_dim  = df_text['dim'].min()\n",
    "\n",
    "print(\"Smallest TextEmbedding dim:         \", min_text_dim)\n",
    "\n",
    "print(\"\\nTextEmbedding model(s) with dim =\", min_text_dim, \":\")\n",
    "print(df_text[df_text['dim']==min_text_dim]['model'].tolist())"
   ]
  },
  {
   "cell_type": "markdown",
   "id": "7774ae58-f8c2-4c60-9750-82917c9a994c",
   "metadata": {},
   "source": [
    "## Q6. Indexing with qdrant (2 points)\n",
    "\n",
    "For the last question, we will use more documents.\n",
    "\n",
    "We will select only FAQ records from our ml zoomcamp:\n",
    "```python\n",
    "import requests \n",
    "\n",
    "docs_url = 'https://github.com/alexeygrigorev/llm-rag-workshop/raw/main/notebooks/documents.json'\n",
    "docs_response = requests.get(docs_url)\n",
    "documents_raw = docs_response.json()\n",
    "\n",
    "\n",
    "documents = []\n",
    "\n",
    "for course in documents_raw:\n",
    "    course_name = course['course']\n",
    "    if course_name != 'machine-learning-zoomcamp':\n",
    "        continue\n",
    "\n",
    "    for doc in course['documents']:\n",
    "        doc['course'] = course_name\n",
    "        documents.append(doc)\n",
    "```\n",
    "Add them to qdrant using the model form Q5.\n",
    "\n",
    "When adding the data, use both question and answer fields:\n",
    "\n",
    "```text = doc['question'] + ' ' + doc['text']```\n",
    "\n",
    "After the data is inserted, use the question from Q1 for querying the collection.\n",
    "\n",
    "What's the highest score in the results? (The score for the first returned record):\n",
    "\n",
    "* 0.97\n",
    "* 0.87\n",
    "* 0.77\n",
    "* 0.67"
   ]
  },
  {
   "cell_type": "code",
   "execution_count": 24,
   "id": "91c1938b-8737-4947-a6da-6b439293f0bd",
   "metadata": {},
   "outputs": [],
   "source": [
    "import requests \n",
    "\n",
    "docs_url = 'https://github.com/alexeygrigorev/llm-rag-workshop/raw/main/notebooks/documents.json'\n",
    "docs_response = requests.get(docs_url)\n",
    "documents_raw = docs_response.json()\n",
    "\n",
    "\n",
    "documents = []\n",
    "\n",
    "for course in documents_raw:\n",
    "    course_name = course['course']\n",
    "    if course_name != 'machine-learning-zoomcamp':\n",
    "        continue\n",
    "\n",
    "    for doc in course['documents']:\n",
    "        doc['course'] = course_name\n",
    "        documents.append(doc)\n"
   ]
  }
 ],
 "metadata": {
  "kernelspec": {
   "display_name": "Python 3 (ipykernel)",
   "language": "python",
   "name": "python3"
  },
  "language_info": {
   "codemirror_mode": {
    "name": "ipython",
    "version": 3
   },
   "file_extension": ".py",
   "mimetype": "text/x-python",
   "name": "python",
   "nbconvert_exporter": "python",
   "pygments_lexer": "ipython3",
   "version": "3.12.1"
  }
 },
 "nbformat": 4,
 "nbformat_minor": 5
}
