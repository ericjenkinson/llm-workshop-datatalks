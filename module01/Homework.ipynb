{
 "cells": [
  {
   "cell_type": "markdown",
   "id": "0d5173bf-2e92-41be-8a32-f8604b6b522e",
   "metadata": {},
   "source": [
    "## Q1. Running Elasticsearch\n",
    "***"
   ]
  },
  {
   "cell_type": "raw",
   "id": "4496ae06-e59d-4b9c-ad37-e52d8ff43d07",
   "metadata": {},
   "source": [
    "Console command to download and run Elasticsearch in docker\n",
    "\n",
    "docker run -it \\\n",
    "\t--rm \\\n",
    "\t--name elasticsearch \\\n",
    "\t-p 9200:9200 \\\n",
    "\t-p 9300:9300 \\\n",
    "\t-e \"discovery.type=single-node\" \\\n",
    "\t-e \"xpack.security.enabled=false\" \\\n",
    "\telasticsearch:9.0.1"
   ]
  },
  {
   "cell_type": "code",
   "execution_count": 1,
   "id": "f957841a-e850-4ad0-8ca3-d2e2cfcde500",
   "metadata": {},
   "outputs": [
    {
     "name": "stdout",
     "output_type": "stream",
     "text": [
      "{\n",
      "  \"name\" : \"13df3b358b29\",\n",
      "  \"cluster_name\" : \"docker-cluster\",\n",
      "  \"cluster_uuid\" : \"RO09YFAzTHSrScv13Pt7NQ\",\n",
      "  \"version\" : {\n",
      "    \"number\" : \"9.0.1\",\n",
      "    \"build_flavor\" : \"default\",\n",
      "    \"build_type\" : \"docker\",\n",
      "    \"build_hash\" : \"73f7594ea00db50aa7e941e151a5b3985f01e364\",\n",
      "    \"build_date\" : \"2025-04-30T10:07:41.393025990Z\",\n",
      "    \"build_snapshot\" : false,\n",
      "    \"lucene_version\" : \"10.1.0\",\n",
      "    \"minimum_wire_compatibility_version\" : \"8.18.0\",\n",
      "    \"minimum_index_compatibility_version\" : \"8.0.0\"\n",
      "  },\n",
      "  \"tagline\" : \"You Know, for Search\"\n",
      "}\n"
     ]
    }
   ],
   "source": [
    "!curl localhost:9200"
   ]
  },
  {
   "cell_type": "markdown",
   "id": "748fe689-ba9c-4f15-9ff9-0670c60a5b1d",
   "metadata": {},
   "source": [
    "What is the `version.build.hash` value? 73f7594ea00db50aa7e941e151a5b3985f01e364"
   ]
  },
  {
   "cell_type": "markdown",
   "id": "b1566f98-a35f-4ba1-9767-bc064ccf39e3",
   "metadata": {},
   "source": [
    "## Getting the data\n",
    "***"
   ]
  },
  {
   "cell_type": "code",
   "execution_count": 2,
   "id": "0274c574-bd4d-4a78-b499-31f5d04ec273",
   "metadata": {},
   "outputs": [],
   "source": [
    "import requests \n",
    "\n",
    "docs_url = 'https://github.com/DataTalksClub/llm-zoomcamp/blob/main/01-intro/documents.json?raw=1'\n",
    "docs_response = requests.get(docs_url)\n",
    "documents_raw = docs_response.json()\n",
    "\n",
    "documents = []\n",
    "\n",
    "for course in documents_raw:\n",
    "    course_name = course['course']\n",
    "\n",
    "    for doc in course['documents']:\n",
    "        doc['course'] = course_name\n",
    "        documents.append(doc)"
   ]
  },
  {
   "cell_type": "code",
   "execution_count": 3,
   "id": "be178fe1-1283-4dd5-bd55-a39ba52d5cb3",
   "metadata": {},
   "outputs": [
    {
     "data": {
      "text/plain": [
       "{'text': \"The purpose of this document is to capture frequently asked technical questions\\nThe exact day and hour of the course will be 15th Jan 2024 at 17h00. The course will start with the first  “Office Hours'' live.1\\nSubscribe to course public Google Calendar (it works from Desktop only).\\nRegister before the course starts using this link.\\nJoin the course Telegram channel with announcements.\\nDon’t forget to register in DataTalks.Club's Slack and join the channel.\",\n",
       " 'section': 'General course-related questions',\n",
       " 'question': 'Course - When will the course start?',\n",
       " 'course': 'data-engineering-zoomcamp'}"
      ]
     },
     "execution_count": 3,
     "metadata": {},
     "output_type": "execute_result"
    }
   ],
   "source": [
    "documents[0]"
   ]
  },
  {
   "cell_type": "markdown",
   "id": "ca6a2321-7a6a-4f72-91ae-4dc8803f7c18",
   "metadata": {},
   "source": [
    "## Q2. Indexing the data\n",
    "***\n",
    "Index the data in the same way as was shown in the course videos. Make the `course` field a keyword; the rest should be text.<br><br>\n",
    "Which function do you use for adding your data to Elastic?<br>\n",
    "* `insert`\n",
    "* **`index`**\n",
    "* `put`\n",
    "* `add`"
   ]
  },
  {
   "cell_type": "code",
   "execution_count": 5,
   "id": "87e42cf4-ba4d-49a0-820b-fd51aab7f8e9",
   "metadata": {},
   "outputs": [
    {
     "data": {
      "text/plain": [
       "ObjectApiResponse({'name': '13df3b358b29', 'cluster_name': 'docker-cluster', 'cluster_uuid': 'RO09YFAzTHSrScv13Pt7NQ', 'version': {'number': '9.0.1', 'build_flavor': 'default', 'build_type': 'docker', 'build_hash': '73f7594ea00db50aa7e941e151a5b3985f01e364', 'build_date': '2025-04-30T10:07:41.393025990Z', 'build_snapshot': False, 'lucene_version': '10.1.0', 'minimum_wire_compatibility_version': '8.18.0', 'minimum_index_compatibility_version': '8.0.0'}, 'tagline': 'You Know, for Search'})"
      ]
     },
     "execution_count": 5,
     "metadata": {},
     "output_type": "execute_result"
    }
   ],
   "source": [
    "from elasticsearch import Elasticsearch\n",
    "es_client = Elasticsearch('http://localhost:9200')\n",
    "es_client.info()"
   ]
  },
  {
   "cell_type": "code",
   "execution_count": 6,
   "id": "3d28f6e1-69d2-4313-aae7-7f1706d31939",
   "metadata": {},
   "outputs": [
    {
     "data": {
      "text/plain": [
       "ObjectApiResponse({'acknowledged': True, 'shards_acknowledged': True, 'index': 'course-questions'})"
      ]
     },
     "execution_count": 6,
     "metadata": {},
     "output_type": "execute_result"
    }
   ],
   "source": [
    "index_settings = {\n",
    "    \"settings\": {\n",
    "        \"number_of_shards\": 1,\n",
    "        \"number_of_replicas\": 0\n",
    "    },\n",
    "    \"mappings\": {\n",
    "        \"properties\": {\n",
    "            \"text\": {\"type\": \"text\"},\n",
    "            \"section\": {\"type\": \"text\"},\n",
    "            \"question\": {\"type\": \"text\"},\n",
    "            \"course\": {\"type\": \"keyword\"} \n",
    "        }\n",
    "    }\n",
    "}\n",
    "\n",
    "index_name = \"course-questions\"\n",
    "\n",
    "es_client.indices.create(index = index_name, body = index_settings)"
   ]
  },
  {
   "cell_type": "code",
   "execution_count": 7,
   "id": "b4414a01-2827-4148-94c7-565c6e26fb22",
   "metadata": {},
   "outputs": [
    {
     "name": "stderr",
     "output_type": "stream",
     "text": [
      "/usr/local/python/3.12.1/lib/python3.12/site-packages/tqdm/auto.py:21: TqdmWarning: IProgress not found. Please update jupyter and ipywidgets. See https://ipywidgets.readthedocs.io/en/stable/user_install.html\n",
      "  from .autonotebook import tqdm as notebook_tqdm\n"
     ]
    }
   ],
   "source": [
    "from tqdm.auto import tqdm"
   ]
  },
  {
   "cell_type": "code",
   "execution_count": 8,
   "id": "2a8879ab-6ac6-425f-aba3-5eeea7fbe4b9",
   "metadata": {},
   "outputs": [
    {
     "name": "stderr",
     "output_type": "stream",
     "text": [
      "100%|█████████████████████████████████████████████████████████████████████████████████████████████| 948/948 [00:04<00:00, 219.96it/s]\n"
     ]
    }
   ],
   "source": [
    "for doc in tqdm(documents):  # tqdm provides progress bar\n",
    "    es_client.index(index = index_name, document = doc)"
   ]
  },
  {
   "cell_type": "markdown",
   "id": "634e945a-1105-4745-88f3-43972b94ef2e",
   "metadata": {},
   "source": [
    "## Q3. Searching\n",
    "***\n",
    "Now let's search in our index\n",
    "\n",
    "Execute the query \"How do I execute a command on Kubernetes pod?\".\n",
    "\n",
    "Use only `question` and `text` fields and give `question` a boost of 4, and use `\"type\": \"best_fields\"`\n",
    "\n",
    "What is the score for the top ranking result?\n",
    "\n",
    "* 84.50\n",
    "* 64.50\n",
    "* **44.50**\n",
    "* 24.50\n",
    "\n",
    "Look at the `_score` field."
   ]
  },
  {
   "cell_type": "code",
   "execution_count": 9,
   "id": "b8682e42-b10f-4c8d-aa6c-b0ea6815e78b",
   "metadata": {},
   "outputs": [],
   "source": [
    "query = \"How do I execute a command on Kubernetes pod?\""
   ]
  },
  {
   "cell_type": "code",
   "execution_count": 12,
   "id": "2a534f5f-06d3-497e-8a51-62e45d3d18ca",
   "metadata": {},
   "outputs": [
    {
     "data": {
      "text/plain": [
       "[44.50556, 39.406174, 37.250755, 35.433445, 33.70974]"
      ]
     },
     "execution_count": 12,
     "metadata": {},
     "output_type": "execute_result"
    }
   ],
   "source": [
    "search_query = {\n",
    "    \"size\": 5,\n",
    "        \"query\": {\n",
    "            \"bool\": {\n",
    "                \"must\": {\n",
    "                    \"multi_match\": {\n",
    "                        \"query\": query,\n",
    "                        \"fields\": [\"question^4\", \"text\", \"section\"],\n",
    "                        \"type\": \"best_fields\"\n",
    "                    }\n",
    "            }\n",
    "        }\n",
    "    }\n",
    "}\n",
    "\n",
    "response = es_client.search(index = index_name, body = search_query)\n",
    "\n",
    "result_docs = []\n",
    "\n",
    "for hit in response['hits']['hits']:\n",
    "    result_docs.append(hit['_score'])\n",
    "\n",
    "result_docs"
   ]
  },
  {
   "cell_type": "markdown",
   "id": "9cdce1c8-abc5-434d-8859-686c0e2accd5",
   "metadata": {},
   "source": [
    "## Q.4 Filtering\n",
    "***\n",
    "Now ask a different question: \"How do copy a file to a Docker container?\".\n",
    "\n",
    "This time we are only interested in questions from `machine-learning-zoomcamp`.\n",
    "\n",
    "Return 3 results. What's the 3rd question returned by the search engine?\n",
    "\n",
    "* **How do I debug a docker container?**\n",
    "* How do I copy files from a different folder into docker container’s working directory?\n",
    "* How do Lambda container images work?\n",
    "* How can I annotate a graph?"
   ]
  },
  {
   "cell_type": "code",
   "execution_count": 13,
   "id": "9ba01c04-97a6-4d60-9e8d-63a0b549eb3c",
   "metadata": {},
   "outputs": [],
   "source": [
    "query = \"How do copy a file to a Docker container?\""
   ]
  },
  {
   "cell_type": "code",
   "execution_count": 25,
   "id": "365103e7-efe5-4d8b-b4ee-46ee4123d368",
   "metadata": {},
   "outputs": [
    {
     "data": {
      "text/plain": [
       "[{'text': 'Launch the container image in interactive mode and overriding the entrypoint, so that it starts a bash command.\\ndocker run -it --entrypoint bash <image>\\nIf the container is already running, execute a command in the specific container:\\ndocker ps (find the container-id)\\ndocker exec -it <container-id> bash\\n(Marcos MJD)',\n",
       "  'section': '5. Deploying Machine Learning Models',\n",
       "  'question': 'How do I debug a docker container?',\n",
       "  'course': 'machine-learning-zoomcamp'},\n",
       " {'text': \"You can copy files from your local machine into a Docker container using the docker cp command. Here's how to do it:\\nTo copy a file or directory from your local machine into a running Docker container, you can use the `docker cp command`. The basic syntax is as follows:\\ndocker cp /path/to/local/file_or_directory container_id:/path/in/container\\nHrithik Kumar Advani\",\n",
       "  'section': '5. Deploying Machine Learning Models',\n",
       "  'question': 'How do I copy files from my local machine to docker container?',\n",
       "  'course': 'machine-learning-zoomcamp'},\n",
       " {'text': 'You can copy files from your local machine into a Docker container using the docker cp command. Here\\'s how to do it:\\nIn the Dockerfile, you can provide the folder containing the files that you want to copy over. The basic syntax is as follows:\\nCOPY [\"src/predict.py\", \"models/xgb_model.bin\", \"./\"]\\t\\t\\t\\t\\t\\t\\t\\t\\t\\t\\tGopakumar Gopinathan',\n",
       "  'section': '5. Deploying Machine Learning Models',\n",
       "  'question': 'How do I copy files from a different folder into docker container’s working directory?',\n",
       "  'course': 'machine-learning-zoomcamp'}]"
      ]
     },
     "execution_count": 25,
     "metadata": {},
     "output_type": "execute_result"
    }
   ],
   "source": [
    "search_query = {\n",
    "    \"size\": 3,\n",
    "        \"query\": {\n",
    "            \"bool\": {\n",
    "                \"must\": {\n",
    "                    \"multi_match\": {\n",
    "                        \"query\": query,\n",
    "                        \"fields\": [\"question^4\", \"text\", \"section\"],\n",
    "                        \"type\": \"best_fields\"\n",
    "                    }\n",
    "                },\n",
    "                \"filter\": {\n",
    "                        \"term\": {\n",
    "                        \"course\": \"machine-learning-zoomcamp\"\n",
    "                    }\n",
    "                }\n",
    "                \n",
    "        }\n",
    "    }\n",
    "}\n",
    "\n",
    "response = es_client.search(index = index_name, body = search_query)\n",
    "\n",
    "result_docs = [doc['_source'] for doc in response['hits']['hits']]\n",
    "\n",
    "result_docs"
   ]
  },
  {
   "cell_type": "markdown",
   "id": "932983e3-81b0-4893-a925-dc1dd25c3ed2",
   "metadata": {},
   "source": [
    "## Q.5 Building a prompt\n",
    "***\n",
    "Now we're ready to build a prompt to send to an LLM.\n",
    "\n",
    "Take the records returned from Elasticsearch in Q4 and use this template to build the context. Separate context entries by two linebreaks (`\\n\\n`)\n",
    "\n",
    "```python\n",
    "context_template = \"\"\"\n",
    "Q: {question}\n",
    "A: {text}\n",
    "\"\"\".strip()\n",
    "```\n",
    "\n",
    "Now use the context you just created along with the \"How do copy a file to a Docker container?\" question to construct a prompt using the template below:\n",
    "\n",
    "```python\n",
    "prompt_template = \"\"\"\n",
    "You're a course teaching assistant . Answer the QUESTION based on the CONTEXT from the FAQ database.\n",
    "Use only the facts from the CONTEXT when answering the QUESTION.\n",
    "\n",
    "QUESTION: {question}\n",
    "\n",
    "CONTEXT:\n",
    "{context}\n",
    "\"\"\".strip()\n",
    "```\n",
    "\n",
    "What's the length of the resulting prompt? (use the `len` function)\n",
    "\n",
    "* 946\n",
    "* 1446\n",
    "* 1946\n",
    "* 2446"
   ]
  },
  {
   "cell_type": "code",
   "execution_count": 29,
   "id": "77d2cf59-1340-4829-85ba-71ad9b10a17e",
   "metadata": {},
   "outputs": [],
   "source": [
    "from openai import OpenAI"
   ]
  },
  {
   "cell_type": "code",
   "execution_count": 30,
   "id": "20bd6bbb-934b-4839-81f7-5271c4645026",
   "metadata": {},
   "outputs": [],
   "source": [
    "client = OpenAI()  # make sure that the OPENAI_API_KEY environment variable is set.def search(query)"
   ]
  },
  {
   "cell_type": "code",
   "execution_count": 31,
   "id": "545180b5-bf50-475e-beec-4ee9d108e92d",
   "metadata": {},
   "outputs": [],
   "source": [
    "query = \"How do copy a file to a Docker container?\""
   ]
  },
  {
   "cell_type": "code",
   "execution_count": 32,
   "id": "6dd7bc36-5e00-45d0-bf9b-1bbc4798a132",
   "metadata": {},
   "outputs": [],
   "source": [
    "response = client.chat.completions.create(\n",
    "    model = 'gpt-4o',\n",
    "    messages = [{\"role\": \"user\", \"content\": query}]\n",
    ")"
   ]
  },
  {
   "cell_type": "code",
   "execution_count": 33,
   "id": "8880f9b2-7f86-4a83-bbc1-bc184d5aea76",
   "metadata": {},
   "outputs": [
    {
     "data": {
      "text/plain": [
       "\"To copy a file to a Docker container, you can use the `docker cp` command. This command allows you to copy files or directories between your host machine and a running Docker container. \\n\\nHere's how you can use it:\\n\\n### Copying from Host to Container\\n\\nLet's say you want to copy a file from your host machine to a Docker container. The syntax is:\\n\\n```\\ndocker cp <source-path> <container-id>:<destination-path>\\n```\\n\\n- `<source-path>` is the path to the file or directory on your host that you want to copy.\\n- `<container-id>` is the ID or name of the container to which you want to copy the file.\\n- `<destination-path>` is the location inside the container where you want to copy the file.\\n\\n**Example**: Copy a file named `example.txt` from your current directory on the host to the `/tmp` directory of a container named `my_container`.\\n\\n```bash\\ndocker cp example.txt my_container:/tmp/\\n```\\n\\n### Copying from Container to Host\\n\\nYou can also copy files from a Docker container back to the host:\\n\\n```\\ndocker cp <container-id>:<source-path> <destination-path>\\n```\\n\\n- `<container-id>` is the ID or name of the container from which you want to copy the file.\\n- `<source-path>` is the path to the file or directory in the container.\\n- `<destination-path>` is the destination on your host where you want to copy the file.\\n\\n**Example**: Copy a file named `example.txt` from the `/tmp` directory inside a container named `my_container` to your current directory on the host.\\n\\n```bash\\ndocker cp my_container:/tmp/example.txt ./\\n```\\n\\n### Important Considerations\\n\\n- Ensure the container is running when you attempt to copy files.\\n- The paths must be correct, otherwise, you will encounter errors.\\n- You need appropriate permissions on both the host and container to copy files.\""
      ]
     },
     "execution_count": 33,
     "metadata": {},
     "output_type": "execute_result"
    }
   ],
   "source": [
    "response.choices[0].message.content"
   ]
  },
  {
   "cell_type": "code",
   "execution_count": 35,
   "id": "113c9e4f-ffe2-4a3a-b2ce-a4bd7886439c",
   "metadata": {},
   "outputs": [
    {
     "name": "stdout",
     "output_type": "stream",
     "text": [
      "section: 5. Deploying Machine Learning Models\n",
      "question: How do I debug a docker container?\n",
      "answer: Launch the container image in interactive mode and overriding the entrypoint, so that it starts a bash command.\n",
      "docker run -it --entrypoint bash <image>\n",
      "If the container is already running, execute a command in the specific container:\n",
      "docker ps (find the container-id)\n",
      "docker exec -it <container-id> bash\n",
      "(Marcos MJD)\n",
      "\n",
      "section: 5. Deploying Machine Learning Models\n",
      "question: How do I copy files from my local machine to docker container?\n",
      "answer: You can copy files from your local machine into a Docker container using the docker cp command. Here's how to do it:\n",
      "To copy a file or directory from your local machine into a running Docker container, you can use the `docker cp command`. The basic syntax is as follows:\n",
      "docker cp /path/to/local/file_or_directory container_id:/path/in/container\n",
      "Hrithik Kumar Advani\n",
      "\n",
      "section: 5. Deploying Machine Learning Models\n",
      "question: How do I copy files from a different folder into docker container’s working directory?\n",
      "answer: You can copy files from your local machine into a Docker container using the docker cp command. Here's how to do it:\n",
      "In the Dockerfile, you can provide the folder containing the files that you want to copy over. The basic syntax is as follows:\n",
      "COPY [\"src/predict.py\", \"models/xgb_model.bin\", \"./\"]\t\t\t\t\t\t\t\t\t\t\tGopakumar Gopinathan\n",
      "\n",
      "\n"
     ]
    }
   ],
   "source": [
    "prompt_template = \"\"\"\n",
    "You're a course teaching assistant. Answer the QUESTION based on the CONTEXT from the FAQ database. \n",
    "Use only the facts from the CONTEXT when answering the QUESTION.\n",
    "\n",
    "QUESTION: {question}\n",
    "\n",
    "CONTEXT: {context}\n",
    "\"\"\".strip()\n",
    "\n",
    "context = \"\"\n",
    "\n",
    "for doc in result_docs:\n",
    "    context = context + f\"section: {doc['section']}\\nquestion: {doc['question']}\\nanswer: {doc['text']}\\n\\n\"\n",
    "\n",
    "print(context)"
   ]
  },
  {
   "cell_type": "code",
   "execution_count": 36,
   "id": "7cda89cb-f152-4415-8a4e-d042a947b19d",
   "metadata": {},
   "outputs": [
    {
     "name": "stdout",
     "output_type": "stream",
     "text": [
      "You're a course teaching assistant. Answer the QUESTION based on the CONTEXT from the FAQ database. \n",
      "Use only the facts from the CONTEXT when answering the QUESTION.\n",
      "\n",
      "QUESTION: How do copy a file to a Docker container?\n",
      "\n",
      "CONTEXT: section: 5. Deploying Machine Learning Models\n",
      "question: How do I debug a docker container?\n",
      "answer: Launch the container image in interactive mode and overriding the entrypoint, so that it starts a bash command.\n",
      "docker run -it --entrypoint bash <image>\n",
      "If the container is already running, execute a command in the specific container:\n",
      "docker ps (find the container-id)\n",
      "docker exec -it <container-id> bash\n",
      "(Marcos MJD)\n",
      "\n",
      "section: 5. Deploying Machine Learning Models\n",
      "question: How do I copy files from my local machine to docker container?\n",
      "answer: You can copy files from your local machine into a Docker container using the docker cp command. Here's how to do it:\n",
      "To copy a file or directory from your local machine into a running Docker container, you can use the `docker cp command`. The basic syntax is as follows:\n",
      "docker cp /path/to/local/file_or_directory container_id:/path/in/container\n",
      "Hrithik Kumar Advani\n",
      "\n",
      "section: 5. Deploying Machine Learning Models\n",
      "question: How do I copy files from a different folder into docker container’s working directory?\n",
      "answer: You can copy files from your local machine into a Docker container using the docker cp command. Here's how to do it:\n",
      "In the Dockerfile, you can provide the folder containing the files that you want to copy over. The basic syntax is as follows:\n",
      "COPY [\"src/predict.py\", \"models/xgb_model.bin\", \"./\"]\t\t\t\t\t\t\t\t\t\t\tGopakumar Gopinathan\n"
     ]
    }
   ],
   "source": [
    "prompt = prompt_template.format(question = query, context = context).strip()\n",
    "\n",
    "print(prompt)"
   ]
  },
  {
   "cell_type": "markdown",
   "id": "6c437843-4e4a-4bcc-a517-be52acdc347c",
   "metadata": {},
   "source": [
    "#### Length of prompt"
   ]
  },
  {
   "cell_type": "code",
   "execution_count": 37,
   "id": "10809a10-0905-4b07-890e-5b99b89f3054",
   "metadata": {},
   "outputs": [
    {
     "data": {
      "text/plain": [
       "1621"
      ]
     },
     "execution_count": 37,
     "metadata": {},
     "output_type": "execute_result"
    }
   ],
   "source": [
    "len(prompt)"
   ]
  },
  {
   "cell_type": "markdown",
   "id": "2cd22887-22f1-418e-8b08-5e0b97034f1f",
   "metadata": {},
   "source": [
    "## Q.6 Tokens\n",
    "***\n",
    "When we use the OpenAI Platform, we're charged by the number of tokens we send in our prompt and receive in the response.\n",
    "\n",
    "The OpenAI python package uses `tiktoken` for tokenization.\n",
    "\n",
    "Let's calculate the number of tokens in our query:\n",
    "```python\n",
    "encoding = tiktoken.encoding_for_model(\"gpt-4o\")\n",
    "```\n",
    "Use the encode function. How many tokens does our prompt have?\n",
    "\n",
    "* 120\n",
    "* 220\n",
    "* **320**\n",
    "* 420\n",
    "\n",
    "Note: to decode back a token into a word, you can use the decode_single_token_bytes function:\n",
    "```python\n",
    "encoding.decode_single_token_bytes(63842)\n",
    "```"
   ]
  },
  {
   "cell_type": "code",
   "execution_count": 40,
   "id": "aef08290-1d14-418d-9063-d6e7aa4e77f0",
   "metadata": {},
   "outputs": [],
   "source": [
    "import tiktoken"
   ]
  },
  {
   "cell_type": "code",
   "execution_count": 42,
   "id": "7a7e8078-aade-4a39-aa44-9b624d5a7259",
   "metadata": {},
   "outputs": [],
   "source": [
    "encoding = tiktoken.encoding_for_model(\"gpt-4o\")"
   ]
  },
  {
   "cell_type": "code",
   "execution_count": 44,
   "id": "efe55a7d-d918-4ceb-ad9e-701eeaf527d6",
   "metadata": {},
   "outputs": [
    {
     "data": {
      "text/plain": [
       "354"
      ]
     },
     "execution_count": 44,
     "metadata": {},
     "output_type": "execute_result"
    }
   ],
   "source": [
    "len(encoding.encode(prompt))"
   ]
  },
  {
   "cell_type": "markdown",
   "id": "f626ef72-b8f5-4519-8a39-401c4f437c40",
   "metadata": {},
   "source": [
    "## Bonus: generating the answer (ungraded)\n",
    "***\n",
    "Let's send the prompt to OpenAI. What's the response?"
   ]
  },
  {
   "cell_type": "code",
   "execution_count": 38,
   "id": "4e2527d7-7d55-4092-8bee-88d9fc74c3ef",
   "metadata": {},
   "outputs": [
    {
     "data": {
      "text/plain": [
       "'To copy a file to a Docker container, you can use the `docker cp` command. The basic syntax is:\\n\\n```bash\\ndocker cp /path/to/local/file_or_directory container_id:/path/in/container\\n```\\n\\nThis command enables you to transfer files from your local machine into a running Docker container.'"
      ]
     },
     "execution_count": 38,
     "metadata": {},
     "output_type": "execute_result"
    }
   ],
   "source": [
    "response = client.chat.completions.create(\n",
    "    model = 'gpt-4o',\n",
    "    messages = [{\"role\": \"user\", \"content\": prompt}]\n",
    ")\n",
    "\n",
    "response.choices[0].message.content"
   ]
  },
  {
   "cell_type": "markdown",
   "id": "78d025f0-4acd-4c56-a754-dd2d1ac86f2f",
   "metadata": {},
   "source": [
    "## Bonus: calculating the costs (ungraded)\n",
    "***\n",
    "Suppose that on average per request we send 150 tokens and receive back 250 tokens.\n",
    "\n",
    "How much will it cost to run 1000 requests?\n",
    "\n",
    "You can see the prices __[here](https://openai.com/api/pricing/)__"
   ]
  },
  {
   "cell_type": "markdown",
   "id": "59ff8a3c-9660-44f8-b2c2-b466ef45d474",
   "metadata": {},
   "source": [
    "Here are today's API pricing for GPT-4o, the most cost-effective model.\n",
    "\n",
    "* **Input tokens**: \\$2.50 per 1 million\n",
    "* **Output tokens**: \\$10.00 per 1 million\n",
    "\n",
    "***\n",
    "### Cost per request\n",
    "Given:\n",
    "\n",
    "* ~150 input tokens\n",
    "* ~250 output tokens\n",
    "\n",
    "Cost individual request:\n",
    "\n",
    "* Input cost = 150 tokens × (\\$2.50 / 1 000 000) = \\$0.000375\n",
    "* Output cost = 250 tokens × (\\$10.00 / 1 000 000) = \\$0.002500\n",
    "Total ≈ \\$0.002875 per request\n",
    "***\n",
    "### Total cost for 1,000 requests\n",
    "1,000 × \\$0.002875 = **\\$2.875**"
   ]
  },
  {
   "cell_type": "code",
   "execution_count": null,
   "id": "af337664-2177-4822-8309-b28e4e2bbc37",
   "metadata": {},
   "outputs": [],
   "source": []
  },
  {
   "cell_type": "code",
   "execution_count": null,
   "id": "05f91eb2-f04e-4630-b1a5-95ab3f4fa44d",
   "metadata": {},
   "outputs": [],
   "source": []
  }
 ],
 "metadata": {
  "kernelspec": {
   "display_name": "Python 3 (ipykernel)",
   "language": "python",
   "name": "python3"
  },
  "language_info": {
   "codemirror_mode": {
    "name": "ipython",
    "version": 3
   },
   "file_extension": ".py",
   "mimetype": "text/x-python",
   "name": "python",
   "nbconvert_exporter": "python",
   "pygments_lexer": "ipython3",
   "version": "3.12.1"
  }
 },
 "nbformat": 4,
 "nbformat_minor": 5
}
