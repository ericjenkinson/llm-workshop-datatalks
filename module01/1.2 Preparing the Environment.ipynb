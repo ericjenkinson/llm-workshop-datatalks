{
 "cells": [
  {
   "cell_type": "code",
   "execution_count": 3,
   "id": "5fb19714-0451-462a-ba80-acf137b1da3b",
   "metadata": {},
   "outputs": [],
   "source": [
    "import openai\n",
    "from openai import OpenAI"
   ]
  },
  {
   "cell_type": "code",
   "execution_count": 5,
   "id": "fbe64942-05f3-422c-9f14-5954c5f836c0",
   "metadata": {},
   "outputs": [],
   "source": [
    "client = OpenAI() # api key is read from OPENAPI_API_KEY environment variable"
   ]
  },
  {
   "cell_type": "code",
   "execution_count": 6,
   "id": "e0f608db-a429-46fc-8769-0d5e7bac09ab",
   "metadata": {},
   "outputs": [],
   "source": [
    "response = client.chat.completions.create(\n",
    "    model='gpt-4o-mini',\n",
    "    messages=[{\"role\": \"user\",\n",
    "               \"content\": \"Is it too late to join the course?\"}]\n",
    ")"
   ]
  },
  {
   "cell_type": "code",
   "execution_count": 7,
   "id": "84dbe3f3-b4dd-4ddf-b58a-f36108fe6609",
   "metadata": {},
   "outputs": [
    {
     "data": {
      "text/plain": [
       "ChatCompletion(id='chatcmpl-BgGv0qnXgCiEBVSckzPFD0H7CbSJx', choices=[Choice(finish_reason='stop', index=0, logprobs=None, message=ChatCompletionMessage(content=\"That would depend on the specific course and its enrollment policies. Many courses have set deadlines for enrollment, while others may allow rolling admission. It’s best to check with the institution or organization offering the course directly to see if you can still join. If you let me know which course you're interested in, I might be able to offer more specific advice!\", refusal=None, role='assistant', annotations=[], audio=None, function_call=None, tool_calls=None))], created=1749414510, model='gpt-4o-mini-2024-07-18', object='chat.completion', service_tier='default', system_fingerprint='fp_34a54ae93c', usage=CompletionUsage(completion_tokens=70, prompt_tokens=16, total_tokens=86, completion_tokens_details=CompletionTokensDetails(accepted_prediction_tokens=0, audio_tokens=0, reasoning_tokens=0, rejected_prediction_tokens=0), prompt_tokens_details=PromptTokensDetails(audio_tokens=0, cached_tokens=0)))"
      ]
     },
     "execution_count": 7,
     "metadata": {},
     "output_type": "execute_result"
    }
   ],
   "source": [
    "response"
   ]
  },
  {
   "cell_type": "code",
   "execution_count": 11,
   "id": "08d9b0ab-8d17-4b09-80e0-2f4a0cd8fa1a",
   "metadata": {},
   "outputs": [
    {
     "data": {
      "text/plain": [
       "[Choice(finish_reason='stop', index=0, logprobs=None, message=ChatCompletionMessage(content=\"That would depend on the specific course and its enrollment policies. Many courses have set deadlines for enrollment, while others may allow rolling admission. It’s best to check with the institution or organization offering the course directly to see if you can still join. If you let me know which course you're interested in, I might be able to offer more specific advice!\", refusal=None, role='assistant', annotations=[], audio=None, function_call=None, tool_calls=None))]"
      ]
     },
     "execution_count": 11,
     "metadata": {},
     "output_type": "execute_result"
    }
   ],
   "source": [
    "response.choices"
   ]
  },
  {
   "cell_type": "code",
   "execution_count": 8,
   "id": "2f78b7db-d414-46ed-a981-550f4051e6f4",
   "metadata": {},
   "outputs": [
    {
     "data": {
      "text/plain": [
       "Choice(finish_reason='stop', index=0, logprobs=None, message=ChatCompletionMessage(content=\"That would depend on the specific course and its enrollment policies. Many courses have set deadlines for enrollment, while others may allow rolling admission. It’s best to check with the institution or organization offering the course directly to see if you can still join. If you let me know which course you're interested in, I might be able to offer more specific advice!\", refusal=None, role='assistant', annotations=[], audio=None, function_call=None, tool_calls=None))"
      ]
     },
     "execution_count": 8,
     "metadata": {},
     "output_type": "execute_result"
    }
   ],
   "source": [
    "response.choices[0]"
   ]
  },
  {
   "cell_type": "code",
   "execution_count": 9,
   "id": "0e5096bf-0ae8-40b7-8a75-c47e13e8b5de",
   "metadata": {},
   "outputs": [
    {
     "data": {
      "text/plain": [
       "ChatCompletionMessage(content=\"That would depend on the specific course and its enrollment policies. Many courses have set deadlines for enrollment, while others may allow rolling admission. It’s best to check with the institution or organization offering the course directly to see if you can still join. If you let me know which course you're interested in, I might be able to offer more specific advice!\", refusal=None, role='assistant', annotations=[], audio=None, function_call=None, tool_calls=None)"
      ]
     },
     "execution_count": 9,
     "metadata": {},
     "output_type": "execute_result"
    }
   ],
   "source": [
    "response.choices[0].message"
   ]
  },
  {
   "cell_type": "code",
   "execution_count": 10,
   "id": "d205ede4-fd20-446b-947a-7b0e5ecf556d",
   "metadata": {},
   "outputs": [
    {
     "data": {
      "text/plain": [
       "\"That would depend on the specific course and its enrollment policies. Many courses have set deadlines for enrollment, while others may allow rolling admission. It’s best to check with the institution or organization offering the course directly to see if you can still join. If you let me know which course you're interested in, I might be able to offer more specific advice!\""
      ]
     },
     "execution_count": 10,
     "metadata": {},
     "output_type": "execute_result"
    }
   ],
   "source": [
    "response.choices[0].message.content"
   ]
  },
  {
   "cell_type": "code",
   "execution_count": null,
   "id": "700b26b7-4b28-4e3a-819f-19f856cc046b",
   "metadata": {},
   "outputs": [],
   "source": []
  }
 ],
 "metadata": {
  "kernelspec": {
   "display_name": "Python 3 (ipykernel)",
   "language": "python",
   "name": "python3"
  },
  "language_info": {
   "codemirror_mode": {
    "name": "ipython",
    "version": 3
   },
   "file_extension": ".py",
   "mimetype": "text/x-python",
   "name": "python",
   "nbconvert_exporter": "python",
   "pygments_lexer": "ipython3",
   "version": "3.12.1"
  }
 },
 "nbformat": 4,
 "nbformat_minor": 5
}
