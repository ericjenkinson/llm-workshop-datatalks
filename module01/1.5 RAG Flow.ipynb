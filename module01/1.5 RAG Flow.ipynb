{
 "cells": [
  {
   "cell_type": "raw",
   "id": "e2124e66-1a08-4a70-8a6f-7a156bcb4d3f",
   "metadata": {},
   "source": [
    "Setup"
   ]
  },
  {
   "cell_type": "code",
   "execution_count": 1,
   "id": "243f0bc7-9364-4c88-87fe-8f9a912a9338",
   "metadata": {},
   "outputs": [],
   "source": [
    "import minsearch\n",
    "import json"
   ]
  },
  {
   "cell_type": "code",
   "execution_count": 4,
   "id": "d85543af-1f4f-40b5-b5be-11a5128dafb8",
   "metadata": {},
   "outputs": [],
   "source": [
    "# load documents\n",
    "with open('documents.json', 'rt') as f_in:\n",
    "    docs_raw = json.load(f_in)"
   ]
  },
  {
   "cell_type": "code",
   "execution_count": 5,
   "id": "bb3025ed-b540-41f4-afa0-b0fc472d7f4f",
   "metadata": {},
   "outputs": [],
   "source": [
    "documents = []\n",
    "\n",
    "for course_dict in docs_raw:\n",
    "    for doc in course_dict['documents']:\n",
    "        doc['course'] = course_dict['course']\n",
    "        documents.append(doc)"
   ]
  },
  {
   "cell_type": "code",
   "execution_count": 17,
   "id": "cd4171a9-e069-4973-96a7-7bf46cec28e2",
   "metadata": {},
   "outputs": [],
   "source": [
    "index = minsearch.Index(\n",
    "    text_fields=[\"question\", \"text\", \"section\"],\n",
    "    keyword_fields=[\"course\"]\n",
    ")"
   ]
  },
  {
   "cell_type": "code",
   "execution_count": null,
   "id": "1cc3e19a-d108-462b-9bee-a719592abb01",
   "metadata": {},
   "outputs": [],
   "source": [
    "index.fit(documents)"
   ]
  },
  {
   "cell_type": "raw",
   "id": "7ba1e792-1ccf-455c-be17-426a87a78f09",
   "metadata": {},
   "source": [
    "End Setup"
   ]
  },
  {
   "cell_type": "code",
   "execution_count": 6,
   "id": "45a858ca-7d8d-4b47-9b6c-f05716c05073",
   "metadata": {},
   "outputs": [],
   "source": [
    "from openai import OpenAI"
   ]
  },
  {
   "cell_type": "code",
   "execution_count": 13,
   "id": "575ca141-9fe1-4745-8420-e602da6d402c",
   "metadata": {},
   "outputs": [],
   "source": [
    "client = OpenAI()  # make sure that the OPENAI_API_KEY environment variable is set.def search(query)"
   ]
  },
  {
   "cell_type": "code",
   "execution_count": 14,
   "id": "67c994f3-0a36-4aeb-b308-0b076e78bde4",
   "metadata": {},
   "outputs": [],
   "source": [
    "def search(query):\n",
    "    boost = {'question': 3.0, 'section': 0.5}\n",
    "\n",
    "    results = index.search(\n",
    "        query = query,\n",
    "        filter_dict = {'course': 'data-engineering-zoomcamp'},\n",
    "        boost_dict = boost,\n",
    "        num_results = 5\n",
    "    )\n",
    "\n",
    "    return results"
   ]
  },
  {
   "cell_type": "code",
   "execution_count": 8,
   "id": "f8ab2889-4bdc-477e-9437-d4cedeb9dc85",
   "metadata": {},
   "outputs": [],
   "source": [
    "def build_prompt(query, search_results):\n",
    "    prompt_template = \"\"\"\n",
    "You're a course teaching assistant. Answer the QUESTION based on the CONTEXT from the FAQ database. \n",
    "Use only the facts from the CONTEXT when answering the QUESTION.\n",
    "\n",
    "QUESTION: {question}\n",
    "\n",
    "CONTEXT: {context}\n",
    "\"\"\".strip()\n",
    "\n",
    "    context = \"\"\n",
    "\n",
    "    for doc in search_results:\n",
    "        context = context + f\"section: {doc['section']}\\nquestion: {doc['question']}\\nanswer: {doc['text']}\\n\\n\"\n",
    "\n",
    "    prompt = prompt_template.format(question = query, context = context).strip()\n",
    "\n",
    "    return prompt"
   ]
  },
  {
   "cell_type": "code",
   "execution_count": 9,
   "id": "2846d915-4680-4be4-bed0-c57af456ee9f",
   "metadata": {},
   "outputs": [],
   "source": [
    "def llm(prompt):\n",
    "    response = client.chat.completions.create(\n",
    "        model = 'gpt-4o',\n",
    "        messages = [{\"role\": \"user\", \"content\": prompt}]\n",
    "    )\n",
    "\n",
    "    return response.choices[0].message.content"
   ]
  },
  {
   "cell_type": "code",
   "execution_count": 11,
   "id": "b8d4c65e-4096-4af7-bb84-7661773c85ad",
   "metadata": {},
   "outputs": [],
   "source": [
    "query = 'how do I run kafka?'\n",
    "\n",
    "def rag(query):\n",
    "    search_results = search(query)\n",
    "    prompt = build_prompt(query, search_results)\n",
    "    answer = llm(prompt)\n",
    "\n",
    "    return answer"
   ]
  },
  {
   "cell_type": "code",
   "execution_count": 19,
   "id": "a3a0cdcb-0492-4a4b-ad8a-9cd881302134",
   "metadata": {},
   "outputs": [
    {
     "data": {
      "text/plain": [
       "'To run Kafka, start by ensuring you have a suitable environment. For Python Kafka, create a virtual environment and install the dependencies as listed in the `requirements.txt`. You can do this by running the following commands:\\n\\n1. Create and activate a virtual environment:\\n   - On MacOS and Linux:\\n     ```bash\\n     python -m venv env\\n     source env/bin/activate\\n     ```\\n   - On Windows:\\n     ```bash\\n     python -m venv env\\n     env\\\\Scripts\\\\activate\\n     ```\\n\\n2. Install the required packages:\\n   ```bash\\n   pip install -r ../requirements.txt\\n   ```\\n\\n3. Activate the virtual environment whenever you need to work within this environment:\\n   - On MacOS and Linux:\\n     ```bash\\n     source env/bin/activate\\n     ```\\n   - On Windows:\\n     ```bash\\n     env\\\\Scripts\\\\activate\\n     ```\\n\\n4. Deactivate when done:\\n   ```bash\\n   deactivate\\n   ```\\n\\nEnsure any Docker images are up and running before proceeding if you are using Docker. For Java Kafka, run the producer or consumer in the terminal by navigating to the project directory and executing the following command:\\n\\n```bash\\njava -cp build/libs/<jar_name>-1.0-SNAPSHOT.jar:out src/main/java/org/example/JsonProducer.java\\n```\\n\\nReplace `<jar_name>` with the actual name of your JAR file.'"
      ]
     },
     "execution_count": 19,
     "metadata": {},
     "output_type": "execute_result"
    }
   ],
   "source": [
    "rag(query)"
   ]
  },
  {
   "cell_type": "code",
   "execution_count": 20,
   "id": "9cad628f-5e45-4cac-8aae-77f03c9a0cd1",
   "metadata": {},
   "outputs": [
    {
     "data": {
      "text/plain": [
       "\"Yes, you can still enroll in the course after it has started. You are eligible to submit the homework even if you haven't registered yet. However, keep in mind that there will be deadlines for turning in homework and the final projects, so it's advisable not to leave everything for the last minute.\""
      ]
     },
     "execution_count": 20,
     "metadata": {},
     "output_type": "execute_result"
    }
   ],
   "source": [
    "rag('the course has already started, can I still enroll?')"
   ]
  }
 ],
 "metadata": {
  "kernelspec": {
   "display_name": "Python 3 (ipykernel)",
   "language": "python",
   "name": "python3"
  },
  "language_info": {
   "codemirror_mode": {
    "name": "ipython",
    "version": 3
   },
   "file_extension": ".py",
   "mimetype": "text/x-python",
   "name": "python",
   "nbconvert_exporter": "python",
   "pygments_lexer": "ipython3",
   "version": "3.12.1"
  }
 },
 "nbformat": 4,
 "nbformat_minor": 5
}
